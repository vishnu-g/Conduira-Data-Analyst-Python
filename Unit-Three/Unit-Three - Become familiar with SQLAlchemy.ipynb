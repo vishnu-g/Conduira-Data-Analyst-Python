{
 "cells": [
  {
   "cell_type": "code",
   "execution_count": 1,
   "id": "d2cc1eaa",
   "metadata": {},
   "outputs": [],
   "source": [
    "from sqlalchemy import Table, Column, Integer, String, MetaData\n",
    "meta = MetaData()"
   ]
  },
  {
   "cell_type": "code",
   "execution_count": 2,
   "id": "826c79ee",
   "metadata": {},
   "outputs": [],
   "source": [
    "employee = Table(\n",
    "   'employee', meta, \n",
    "   Column('id', Integer, primary_key = True), \n",
    "   Column('name', String), \n",
    "   Column('department', String),\n",
    "   Column('basicsalary', Integer),\n",
    "   Column('DA',Integer),\n",
    "   Column('HRA',Integer)\n",
    ")"
   ]
  },
  {
   "cell_type": "code",
   "execution_count": 3,
   "id": "be09aa68",
   "metadata": {},
   "outputs": [
    {
     "name": "stdout",
     "output_type": "stream",
     "text": [
      "2022-01-17 00:40:32,478 INFO sqlalchemy.engine.Engine BEGIN (implicit)\n",
      "2022-01-17 00:40:32,482 INFO sqlalchemy.engine.Engine PRAGMA main.table_info(\"employee\")\n",
      "2022-01-17 00:40:32,484 INFO sqlalchemy.engine.Engine [raw sql] ()\n",
      "2022-01-17 00:40:32,487 INFO sqlalchemy.engine.Engine PRAGMA temp.table_info(\"employee\")\n",
      "2022-01-17 00:40:32,488 INFO sqlalchemy.engine.Engine [raw sql] ()\n",
      "2022-01-17 00:40:32,492 INFO sqlalchemy.engine.Engine \n",
      "CREATE TABLE employee (\n",
      "\tid INTEGER NOT NULL, \n",
      "\tname VARCHAR, \n",
      "\tdepartment VARCHAR, \n",
      "\tbasicsalary INTEGER, \n",
      "\t\"DA\" INTEGER, \n",
      "\t\"HRA\" INTEGER, \n",
      "\tPRIMARY KEY (id)\n",
      ")\n",
      "\n",
      "\n",
      "2022-01-17 00:40:32,493 INFO sqlalchemy.engine.Engine [no key 0.00144s] ()\n",
      "2022-01-17 00:40:32,502 INFO sqlalchemy.engine.Engine COMMIT\n"
     ]
    }
   ],
   "source": [
    "from sqlalchemy import create_engine, MetaData, Table, Column, Integer, String\n",
    "engine = create_engine('sqlite:///organization.db', echo = True)\n",
    "meta = MetaData()\n",
    "\n",
    "employee = Table(\n",
    "   'employee', meta, \n",
    "   Column('id', Integer, primary_key = True), \n",
    "   Column('name', String), \n",
    "   Column('department', String),\n",
    "   Column('basicsalary', Integer),\n",
    "   Column('DA',Integer),\n",
    "   Column('HRA',Integer)\n",
    ")\n",
    "meta.create_all(engine)"
   ]
  },
  {
   "cell_type": "code",
   "execution_count": 4,
   "id": "b0ff61ae",
   "metadata": {},
   "outputs": [
    {
     "name": "stdout",
     "output_type": "stream",
     "text": [
      "2022-01-17 00:40:45,673 INFO sqlalchemy.engine.Engine INSERT INTO employee (id, name, department, basicsalary, \"DA\", \"HRA\") VALUES (?, ?, ?, ?, ?, ?)\n",
      "2022-01-17 00:40:45,675 INFO sqlalchemy.engine.Engine [generated in 0.00231s] (101, 'prudhvi', 'sales', 15000, 5000, 4000)\n",
      "2022-01-17 00:40:45,680 INFO sqlalchemy.engine.Engine COMMIT\n"
     ]
    }
   ],
   "source": [
    "ins = employee.insert()\n",
    "ins = employee.insert().values(id = 101, name = 'prudhvi', department = 'sales',basicsalary = 15000, DA = 5000, HRA = 4000)\n",
    "conn = engine.connect()\n",
    "result = conn.execute(ins)"
   ]
  },
  {
   "cell_type": "code",
   "execution_count": 5,
   "id": "e642a263",
   "metadata": {},
   "outputs": [
    {
     "name": "stdout",
     "output_type": "stream",
     "text": [
      "2022-01-17 00:41:01,194 INFO sqlalchemy.engine.Engine INSERT INTO employee (id, name, department, basicsalary, \"DA\", \"HRA\") VALUES (?, ?, ?, ?, ?, ?)\n",
      "2022-01-17 00:41:01,195 INFO sqlalchemy.engine.Engine [generated in 0.00182s] ((102, 'Vishnu', 'sales', 15000, 5000, 4000), (103, 'Vardhan', 'development', 45000, '5000', 4000), (105, 'Valli', 'HR', 35000, 5000, 8000))\n",
      "2022-01-17 00:41:01,202 INFO sqlalchemy.engine.Engine COMMIT\n"
     ]
    },
    {
     "data": {
      "text/plain": [
       "<sqlalchemy.engine.cursor.LegacyCursorResult at 0x22d4dbb0070>"
      ]
     },
     "execution_count": 5,
     "metadata": {},
     "output_type": "execute_result"
    }
   ],
   "source": [
    "conn.execute(employee.insert(), [\n",
    "   {'id' : 102, 'name' : 'Vishnu', 'department' : 'sales', 'basicsalary' : 15000, 'DA' : 5000, 'HRA' : 4000},\n",
    "   {'id' : 103, 'name' : 'Vardhan', 'department': 'development','basicsalary' : 45000, 'DA' : '5000', 'HRA' : 4000},\n",
    "   {'id' : 105, 'name' : 'Valli', 'department' : 'HR','basicsalary' : 35000, 'DA' : 5000, 'HRA' : 8000},\n",
    "])\n"
   ]
  },
  {
   "cell_type": "code",
   "execution_count": 6,
   "id": "2d092449",
   "metadata": {},
   "outputs": [
    {
     "name": "stdout",
     "output_type": "stream",
     "text": [
      "2022-01-17 00:41:16,536 INFO sqlalchemy.engine.Engine SELECT employee.id, employee.name, employee.department, employee.basicsalary, employee.\"DA\", employee.\"HRA\" \n",
      "FROM employee\n",
      "2022-01-17 00:41:16,539 INFO sqlalchemy.engine.Engine [generated in 0.00233s] ()\n"
     ]
    },
    {
     "data": {
      "text/plain": [
       "[(101, 'prudhvi', 'sales', 15000, 5000, 4000),\n",
       " (102, 'Vishnu', 'sales', 15000, 5000, 4000),\n",
       " (103, 'Vardhan', 'development', 45000, 5000, 4000),\n",
       " (105, 'Valli', 'HR', 35000, 5000, 8000)]"
      ]
     },
     "execution_count": 6,
     "metadata": {},
     "output_type": "execute_result"
    }
   ],
   "source": [
    "e = employee.select()\n",
    "conn.execute(e).fetchall()"
   ]
  },
  {
   "cell_type": "code",
   "execution_count": 7,
   "id": "86ce8fac",
   "metadata": {},
   "outputs": [
    {
     "name": "stdout",
     "output_type": "stream",
     "text": [
      "2022-01-17 00:41:53,399 INFO sqlalchemy.engine.Engine UPDATE employee SET name=? WHERE employee.name = ?\n",
      "2022-01-17 00:41:53,401 INFO sqlalchemy.engine.Engine [generated in 0.00239s] ('Dr.Vardhan', 'Vardhan')\n",
      "2022-01-17 00:41:53,405 INFO sqlalchemy.engine.Engine COMMIT\n",
      "2022-01-17 00:41:53,412 INFO sqlalchemy.engine.Engine SELECT employee.id, employee.name, employee.department, employee.basicsalary, employee.\"DA\", employee.\"HRA\" \n",
      "FROM employee\n",
      "2022-01-17 00:41:53,413 INFO sqlalchemy.engine.Engine [cached since 36.88s ago] ()\n"
     ]
    },
    {
     "data": {
      "text/plain": [
       "[(101, 'prudhvi', 'sales', 15000, 5000, 4000),\n",
       " (102, 'Vishnu', 'sales', 15000, 5000, 4000),\n",
       " (103, 'Dr.Vardhan', 'development', 45000, 5000, 4000),\n",
       " (105, 'Valli', 'HR', 35000, 5000, 8000)]"
      ]
     },
     "execution_count": 7,
     "metadata": {},
     "output_type": "execute_result"
    }
   ],
   "source": [
    "stmt=employee.update().where(employee.c.name=='Vardhan').values(name = 'Dr.Vardhan')\n",
    "conn.execute(stmt)\n",
    "e = employee.select()\n",
    "conn.execute(e).fetchall()"
   ]
  },
  {
   "cell_type": "code",
   "execution_count": 8,
   "id": "bb6d224c",
   "metadata": {},
   "outputs": [
    {
     "name": "stdout",
     "output_type": "stream",
     "text": [
      "2022-01-17 00:42:13,651 INFO sqlalchemy.engine.Engine SELECT employee.id, employee.name, employee.department, employee.basicsalary, employee.\"DA\", employee.\"HRA\" \n",
      "FROM employee \n",
      "WHERE employee.id < ?\n",
      "2022-01-17 00:42:13,657 INFO sqlalchemy.engine.Engine [generated in 0.00538s] (103,)\n",
      "(101, 'prudhvi', 'sales', 15000, 5000, 4000)\n",
      "(102, 'Vishnu', 'sales', 15000, 5000, 4000)\n"
     ]
    }
   ],
   "source": [
    "e = employee.select().where(employee.c.id < 103)\n",
    "result = conn.execute(e)\n",
    "for row in result:\n",
    "   print (row)"
   ]
  },
  {
   "cell_type": "code",
   "execution_count": null,
   "id": "fce3d852",
   "metadata": {},
   "outputs": [],
   "source": []
  }
 ],
 "metadata": {
  "kernelspec": {
   "display_name": "Python 3",
   "language": "python",
   "name": "python3"
  },
  "language_info": {
   "codemirror_mode": {
    "name": "ipython",
    "version": 3
   },
   "file_extension": ".py",
   "mimetype": "text/x-python",
   "name": "python",
   "nbconvert_exporter": "python",
   "pygments_lexer": "ipython3",
   "version": "3.8.8"
  }
 },
 "nbformat": 4,
 "nbformat_minor": 5
}
